{
  "cells": [
    {
      "cell_type": "markdown",
      "metadata": {
        "id": "DxZbHATBEWfl"
      },
      "source": [
        "Connecting Drive to COllab"
      ]
    },
    {
      "cell_type": "code",
      "execution_count": null,
      "metadata": {
        "id": "HbCwgdv5paL0"
      },
      "outputs": [],
      "source": [
        "from google.colab import drive\n",
        "drive.mount('/content/drive')\n",
        "\n",
        "import os\n",
        "print(os.listdir(\"/content/drive/My Drive/iitisoc_ps1/sar_dataset/Train_Val_Oil_Spill_images/Oil/\"))\n",
        "\n",
        "image_tiff = \"/content/drive/My Drive/iitisoc_ps1/sar_dataset/Train_Val_Oil_Spill_images/Oil/\""
      ]
    },
    {
      "cell_type": "code",
      "execution_count": null,
      "metadata": {
        "id": "qcGm4lkuxrd8",
        "collapsed": true
      },
      "outputs": [],
      "source": [
        "#installing required\n",
        "!pip install --quiet rasterio scikit-image opencv-python"
      ]
    },
    {
      "cell_type": "markdown",
      "metadata": {
        "id": "xKfilqxBxq-e"
      },
      "source": []
    },
    {
      "cell_type": "code",
      "execution_count": null,
      "metadata": {
        "id": "CLdUsR4dt6xv"
      },
      "outputs": [],
      "source": [
        "#reading an image from the 1200 images\n",
        "import os\n",
        "from glob import glob\n",
        "\n",
        "image_folder = \"/content/drive/My Drive/iitisoc_ps1/sar_dataset/Train_Val_Oil_Spill_images/Oil/\"\n",
        "\n",
        "tif_files = sorted(glob(os.path.join(image_folder, \"*.tif\")))\n",
        "\n",
        "print(f\"Total .tif files: {len(tif_files)}\")\n"
      ]
    },
    {
      "cell_type": "code",
      "execution_count": null,
      "metadata": {
        "id": "4SfRBabrkqIP"
      },
      "outputs": [],
      "source": [
        "#premprocessimg Steps\n",
        "\n",
        "\n",
        "import numpy as np\n",
        "import matplotlib.pyplot as plt\n",
        "import rasterio\n",
        "from scipy.ndimage import binary_opening, binary_closing, median_filter # Import median filter\n",
        "from skimage.filters import threshold_otsu\n",
        "import os\n",
        "\n",
        "# Load image (image #46 assumed here)\n",
        "sample_tif = tif_files[46]  # Change index as needed\n",
        "\n",
        "# --- STEP 1: Read bands ---\n",
        "with rasterio.open(sample_tif) as src:\n",
        "    vv = src.read(1).astype(np.float32)\n",
        "    vh = src.read(2).astype(np.float32)\n",
        "\n",
        "print(\"VH raw min/max:\", np.nanmin(vh), np.nanmax(vh))  # Should be dB range\n",
        "\n",
        "# --- STEP 2: Preprocess VH ---\n",
        "# Skip dB conversion — already in dB!\n",
        "vh_dB = vh.copy()\n",
        "\n",
        "# Replace NaNs before filtering\n",
        "vh_cleaned = np.nan_to_num(vh_dB, nan=np.nanmin(vh_dB))\n",
        "\n",
        "# --- STEP 3: Speckle Reduction ---\n",
        "# Apply Median Filter\n",
        "vh_filtered = median_filter(vh_cleaned, size=3) # Adjust size as needed\n",
        "\n",
        "\n",
        "# --- STEP 4: Thresholding ---\n",
        "# Use manual threshold (31nd percentile)\n",
        "manual_thresh = np.percentile(vh_filtered, 31)\n",
        "print(\"Adaptive Threshold (17%):\", manual_thresh)\n",
        "\n",
        "binary_mask = vh_filtered < manual_thresh\n",
        "\n",
        "# --- STEP 5: Morphological Cleanup ---\n",
        "binary_cleaned = binary_closing(binary_opening(binary_mask))\n",
        "\n",
        "# --- STEP 6: Visualization ---\n",
        "plt.figure(figsize=(18, 5))\n",
        "\n",
        "plt.subplot(1, 3, 1)\n",
        "plt.imshow(vh_dB, cmap='gray')\n",
        "plt.title(\"Original VH (dB)\")\n",
        "plt.axis('off')\n",
        "\n",
        "plt.subplot(1, 3, 2)\n",
        "plt.imshow(vh_filtered, cmap='gray')\n",
        "plt.title(\"Filtered VH (Median)\")\n",
        "plt.axis('off')\n",
        "\n",
        "plt.subplot(1, 3, 3)\n",
        "plt.imshow(binary_cleaned, cmap='gray')\n",
        "plt.title(\"Predicted Oil Spill Mask\")\n",
        "plt.axis('off')\n",
        "\n",
        "plt.tight_layout()\n",
        "plt.show()\n",
        "\n",
        "# --- Histogram for inspection ---\n",
        "plt.hist(vh_filtered.flatten(), bins=100)\n",
        "plt.title(\"VH Histogram After Filtering\")\n",
        "plt.xlabel(\"Intensity\")\n",
        "plt.ylabel(\"Pixel Count\")\n",
        "plt.show()"
      ]
    },
    {
      "cell_type": "code",
      "source": [
        "#Viewing one ground turth mask\n",
        "\n",
        "import os\n",
        "from glob import glob\n",
        "import matplotlib.pyplot as plt\n",
        "import rasterio\n",
        "import numpy as np\n",
        "\n",
        "# Directory containing the ground truth masks\n",
        "mask_folder = \"/content/drive/My Drive/iitisoc_ps1/sar_dataset/Train_Val_Oil_Spill_mask/Mask_oil/\"\n",
        "\n",
        "# Assuming sample_tif is already defined from the previous cell (cell 4SfRBabrkqIP)\n",
        "# Extract the filename from sample_tif\n",
        "sample_image_filename = os.path.basename(sample_tif)\n",
        "\n",
        "# Construct the expected mask filename\n",
        "# Assuming mask filenames have the same base name as image files\n",
        "sample_mask_filename = sample_image_filename # In this case, the filenames are the same\n",
        "\n",
        "# Construct the full path to the expected mask file\n",
        "sample_mask_file = os.path.join(mask_folder, sample_mask_filename)\n",
        "\n",
        "# Check if the corresponding mask file exists\n",
        "if os.path.exists(sample_mask_file):\n",
        "    # Read the mask file\n",
        "    try:\n",
        "        with rasterio.open(sample_mask_file) as src:\n",
        "            mask = src.read(1)\n",
        "\n",
        "        # Plot the mask\n",
        "        plt.figure(figsize=(8, 6))\n",
        "        plt.imshow(mask, cmap='gray')\n",
        "        plt.title(f\"Ground Truth Mask for Image: {sample_image_filename}\")\n",
        "        plt.colorbar(label='Pixel Value')\n",
        "        plt.axis('off')\n",
        "        plt.show()\n",
        "\n",
        "    except Exception as e:\n",
        "        print(f\"Error reading or plotting the mask file {sample_mask_file}: {e}\")\n",
        "\n",
        "else:\n",
        "    print(f\"Error: Corresponding mask file not found for image {sample_image_filename} at {sample_mask_file}\")"
      ],
      "metadata": {
        "id": "2tqVzMUv8_gZ"
      },
      "execution_count": null,
      "outputs": []
    },
    {
      "cell_type": "code",
      "source": [],
      "metadata": {
        "id": "Si1K17gng1tS"
      },
      "execution_count": null,
      "outputs": []
    },
    {
      "cell_type": "code",
      "metadata": {
        "colab": {
          "base_uri": "https://localhost:8080/",
          "height": 1000
        },
        "id": "e5f3e00b",
        "outputId": "b25dcdc2-beab-4f21-b9a1-3639fb61f799"
      },
      "source": [
        "#pipeline for generating masks for all 1200 oil spill images\n",
        "\n",
        "import os\n",
        "from glob import glob\n",
        "import matplotlib.pyplot as plt\n",
        "import rasterio\n",
        "import numpy as np\n",
        "from scipy.ndimage import binary_opening, binary_closing, median_filter\n",
        "\n",
        "# Setting Directories\n",
        "image_folder = \"/content/drive/My Drive/iitisoc_ps1/sar_dataset/Train_Val_Oil_Spill_images/Oil/\"\n",
        "output_mask_folder = \"/content/drive/My Drive/iitisoc_ps1/oil_spill_mask/\"\n",
        "\n",
        "# Create output directory if it doesn't exist\n",
        "os.makedirs(output_mask_folder, exist_ok=True)\n",
        "\n",
        "# Getting list of image files\n",
        "tif_files = sorted(glob(os.path.join(image_folder, \"*.tif\")))\n",
        "\n",
        "print(f\"Found {len(tif_files)} .tif files to process.\")\n",
        "\n",
        "# Iterating through images\n",
        "for i, sample_tif in enumerate(tif_files):\n",
        "    image_filename = os.path.basename(sample_tif)\n",
        "    output_mask_path = os.path.join(output_mask_folder, image_filename)\n",
        "\n",
        "    print(f\"Processing image {i+1}/{len(tif_files)}: {image_filename}\")\n",
        "\n",
        "    # Processing each image\n",
        "    try:\n",
        "        # Read bands\n",
        "        with rasterio.open(sample_tif) as src:\n",
        "            vv = src.read(1).astype(np.float32)\n",
        "            vh = src.read(2).astype(np.float32)\n",
        "            profile = src.profile # Get metadata for saving\n",
        "\n",
        "        # Preprocess VH\n",
        "        vh_dB = vh.copy()\n",
        "        vh_cleaned = np.nan_to_num(vh_dB, nan=np.nanmin(vh_dB))\n",
        "\n",
        "        # Speckle Reduction (Median Filter)\n",
        "        vh_filtered = median_filter(vh_cleaned, size=3)\n",
        "\n",
        "        # Contrast Stretching\n",
        "        p2, p98 = np.percentile(vh_filtered, (2, 98))\n",
        "        vh_contrast = np.clip((vh_filtered - p2) / (p98 - p2), 0, 1)\n",
        "\n",
        "        # Thresholding\n",
        "        manual_thresh = np.percentile(vh_contrast, 32)\n",
        "        binary_mask = vh_contrast < manual_thresh\n",
        "\n",
        "        # Morphological Cleanup\n",
        "        binary_cleaned = binary_closing(binary_opening(binary_mask))\n",
        "\n",
        "        # Saving the mask\n",
        "        # Update profile for saving the binary mask\n",
        "        profile.update(\n",
        "            dtype=rasterio.uint8,\n",
        "            count=1,\n",
        "            compress='lzw')\n",
        "\n",
        "        with rasterio.open(output_mask_path, 'w', **profile) as dst:\n",
        "            dst.write(binary_cleaned.astype(rasterio.uint8), 1)\n",
        "\n",
        "    except Exception as e:\n",
        "        print(f\"Error processing {image_filename}: {e}\")\n",
        "\n",
        "print(\"\\nMask generation complete.\")"
      ],
      "execution_count": null,
      "outputs": [
        {
          "metadata": {
            "tags": null
          },
          "name": "stderr",
          "output_type": "stream",
          "text": [
            "WARNING:rasterio._env:CPLE_AppDefined in 00000.tif: TIFFReadDirectory:Sum of Photometric type-related color channels and ExtraSamples doesn't match SamplesPerPixel. Defining non-color channels as ExtraSamples.\n",
            "WARNING:rasterio._env:CPLE_AppDefined in TIFFReadDirectory:Sum of Photometric type-related color channels and ExtraSamples doesn't match SamplesPerPixel. Defining non-color channels as ExtraSamples.\n"
          ]
        },
        {
          "metadata": {
            "tags": null
          },
          "name": "stdout",
          "output_type": "stream",
          "text": [
            "Found 1200 .tif files to process.\n",
            "Processing image 1/1200: 00000.tif\n"
          ]
        },
        {
          "metadata": {
            "tags": null
          },
          "name": "stderr",
          "output_type": "stream",
          "text": [
            "WARNING:rasterio._env:CPLE_AppDefined in 00001.tif: TIFFReadDirectory:Sum of Photometric type-related color channels and ExtraSamples doesn't match SamplesPerPixel. Defining non-color channels as ExtraSamples.\n",
            "WARNING:rasterio._env:CPLE_AppDefined in TIFFReadDirectory:Sum of Photometric type-related color channels and ExtraSamples doesn't match SamplesPerPixel. Defining non-color channels as ExtraSamples.\n"
          ]
        },
        {
          "metadata": {
            "tags": null
          },
          "name": "stdout",
          "output_type": "stream",
          "text": [
            "Processing image 2/1200: 00001.tif\n"
          ]
        },
        {
          "metadata": {
            "tags": null
          },
          "name": "stderr",
          "output_type": "stream",
          "text": [
            "WARNING:rasterio._env:CPLE_AppDefined in 00002.tif: TIFFReadDirectory:Sum of Photometric type-related color channels and ExtraSamples doesn't match SamplesPerPixel. Defining non-color channels as ExtraSamples.\n",
            "WARNING:rasterio._env:CPLE_AppDefined in TIFFReadDirectory:Sum of Photometric type-related color channels and ExtraSamples doesn't match SamplesPerPixel. Defining non-color channels as ExtraSamples.\n"
          ]
        },
        {
          "metadata": {
            "tags": null
          },
          "name": "stdout",
          "output_type": "stream",
          "text": [
            "Processing image 3/1200: 00002.tif\n"
          ]
        },
        {
          "metadata": {
            "tags": null
          },
          "name": "stderr",
          "output_type": "stream",
          "text": [
            "WARNING:rasterio._env:CPLE_AppDefined in 00003.tif: TIFFReadDirectory:Sum of Photometric type-related color channels and ExtraSamples doesn't match SamplesPerPixel. Defining non-color channels as ExtraSamples.\n",
            "WARNING:rasterio._env:CPLE_AppDefined in TIFFReadDirectory:Sum of Photometric type-related color channels and ExtraSamples doesn't match SamplesPerPixel. Defining non-color channels as ExtraSamples.\n"
          ]
        },
        {
          "metadata": {
            "tags": null
          },
          "name": "stdout",
          "output_type": "stream",
          "text": [
            "Processing image 4/1200: 00003.tif\n"
          ]
        },
        {
          "metadata": {
            "tags": null
          },
          "name": "stderr",
          "output_type": "stream",
          "text": [
            "WARNING:rasterio._env:CPLE_AppDefined in 00004.tif: TIFFReadDirectory:Sum of Photometric type-related color channels and ExtraSamples doesn't match SamplesPerPixel. Defining non-color channels as ExtraSamples.\n",
            "WARNING:rasterio._env:CPLE_AppDefined in TIFFReadDirectory:Sum of Photometric type-related color channels and ExtraSamples doesn't match SamplesPerPixel. Defining non-color channels as ExtraSamples.\n"
          ]
        },
        {
          "metadata": {
            "tags": null
          },
          "name": "stdout",
          "output_type": "stream",
          "text": [
            "Processing image 5/1200: 00004.tif\n"
          ]
        },
        {
          "metadata": {
            "tags": null
          },
          "name": "stderr",
          "output_type": "stream",
          "text": [
            "WARNING:rasterio._env:CPLE_AppDefined in 00005.tif: TIFFReadDirectory:Sum of Photometric type-related color channels and ExtraSamples doesn't match SamplesPerPixel. Defining non-color channels as ExtraSamples.\n",
            "WARNING:rasterio._env:CPLE_AppDefined in TIFFReadDirectory:Sum of Photometric type-related color channels and ExtraSamples doesn't match SamplesPerPixel. Defining non-color channels as ExtraSamples.\n"
          ]
        },
        {
          "metadata": {
            "tags": null
          },
          "name": "stdout",
          "output_type": "stream",
          "text": [
            "Processing image 6/1200: 00005.tif\n"
          ]
        },
        {
          "metadata": {
            "tags": null
          },
          "name": "stderr",
          "output_type": "stream",
          "text": [
            "WARNING:rasterio._env:CPLE_AppDefined in 00006.tif: TIFFReadDirectory:Sum of Photometric type-related color channels and ExtraSamples doesn't match SamplesPerPixel. Defining non-color channels as ExtraSamples.\n",
            "WARNING:rasterio._env:CPLE_AppDefined in TIFFReadDirectory:Sum of Photometric type-related color channels and ExtraSamples doesn't match SamplesPerPixel. Defining non-color channels as ExtraSamples.\n"
          ]
        },
        {
          "metadata": {
            "tags": null
          },
          "name": "stdout",
          "output_type": "stream",
          "text": [
            "Processing image 7/1200: 00006.tif\n"
          ]
        },
        {
          "metadata": {
            "tags": null
          },
          "name": "stderr",
          "output_type": "stream",
          "text": [
            "WARNING:rasterio._env:CPLE_AppDefined in 00007.tif: TIFFReadDirectory:Sum of Photometric type-related color channels and ExtraSamples doesn't match SamplesPerPixel. Defining non-color channels as ExtraSamples.\n",
            "WARNING:rasterio._env:CPLE_AppDefined in TIFFReadDirectory:Sum of Photometric type-related color channels and ExtraSamples doesn't match SamplesPerPixel. Defining non-color channels as ExtraSamples.\n"
          ]
        },
        {
          "metadata": {
            "tags": null
          },
          "name": "stdout",
          "output_type": "stream",
          "text": [
            "Processing image 8/1200: 00007.tif\n"
          ]
        },
        {
          "metadata": {
            "tags": null
          },
          "name": "stderr",
          "output_type": "stream",
          "text": [
            "WARNING:rasterio._env:CPLE_AppDefined in 00008.tif: TIFFReadDirectory:Sum of Photometric type-related color channels and ExtraSamples doesn't match SamplesPerPixel. Defining non-color channels as ExtraSamples.\n",
            "WARNING:rasterio._env:CPLE_AppDefined in TIFFReadDirectory:Sum of Photometric type-related color channels and ExtraSamples doesn't match SamplesPerPixel. Defining non-color channels as ExtraSamples.\n"
          ]
        },
        {
          "metadata": {
            "tags": null
          },
          "name": "stdout",
          "output_type": "stream",
          "text": [
            "Processing image 9/1200: 00008.tif\n"
          ]
        },
        {
          "metadata": {
            "tags": null
          },
          "name": "stderr",
          "output_type": "stream",
          "text": [
            "WARNING:rasterio._env:CPLE_AppDefined in 00009.tif: TIFFReadDirectory:Sum of Photometric type-related color channels and ExtraSamples doesn't match SamplesPerPixel. Defining non-color channels as ExtraSamples.\n",
            "WARNING:rasterio._env:CPLE_AppDefined in TIFFReadDirectory:Sum of Photometric type-related color channels and ExtraSamples doesn't match SamplesPerPixel. Defining non-color channels as ExtraSamples.\n"
          ]
        },
        {
          "metadata": {
            "tags": null
          },
          "name": "stdout",
          "output_type": "stream",
          "text": [
            "Processing image 10/1200: 00009.tif\n"
          ]
        },
        {
          "metadata": {
            "tags": null
          },
          "name": "stderr",
          "output_type": "stream",
          "text": [
            "WARNING:rasterio._env:CPLE_AppDefined in 00010.tif: TIFFReadDirectory:Sum of Photometric type-related color channels and ExtraSamples doesn't match SamplesPerPixel. Defining non-color channels as ExtraSamples.\n",
            "WARNING:rasterio._env:CPLE_AppDefined in TIFFReadDirectory:Sum of Photometric type-related color channels and ExtraSamples doesn't match SamplesPerPixel. Defining non-color channels as ExtraSamples.\n"
          ]
        },
        {
          "metadata": {
            "tags": null
          },
          "name": "stdout",
          "output_type": "stream",
          "text": [
            "Processing image 11/1200: 00010.tif\n"
          ]
        },
        {
          "metadata": {
            "tags": null
          },
          "name": "stderr",
          "output_type": "stream",
          "text": [
            "WARNING:rasterio._env:CPLE_AppDefined in 00011.tif: TIFFReadDirectory:Sum of Photometric type-related color channels and ExtraSamples doesn't match SamplesPerPixel. Defining non-color channels as ExtraSamples.\n",
            "WARNING:rasterio._env:CPLE_AppDefined in TIFFReadDirectory:Sum of Photometric type-related color channels and ExtraSamples doesn't match SamplesPerPixel. Defining non-color channels as ExtraSamples.\n"
          ]
        },
        {
          "metadata": {
            "tags": null
          },
          "name": "stdout",
          "output_type": "stream",
          "text": [
            "Processing image 12/1200: 00011.tif\n"
          ]
        },
        {
          "metadata": {
            "tags": null
          },
          "name": "stderr",
          "output_type": "stream",
          "text": [
            "WARNING:rasterio._env:CPLE_AppDefined in 00012.tif: TIFFReadDirectory:Sum of Photometric type-related color channels and ExtraSamples doesn't match SamplesPerPixel. Defining non-color channels as ExtraSamples.\n",
            "WARNING:rasterio._env:CPLE_AppDefined in TIFFReadDirectory:Sum of Photometric type-related color channels and ExtraSamples doesn't match SamplesPerPixel. Defining non-color channels as ExtraSamples.\n"
          ]
        },
        {
          "metadata": {
            "tags": null
          },
          "name": "stdout",
          "output_type": "stream",
          "text": [
            "Processing image 13/1200: 00012.tif\n"
          ]
        },
        {
          "metadata": {
            "tags": null
          },
          "name": "stderr",
          "output_type": "stream",
          "text": [
            "WARNING:rasterio._env:CPLE_AppDefined in 00013.tif: TIFFReadDirectory:Sum of Photometric type-related color channels and ExtraSamples doesn't match SamplesPerPixel. Defining non-color channels as ExtraSamples.\n",
            "WARNING:rasterio._env:CPLE_AppDefined in TIFFReadDirectory:Sum of Photometric type-related color channels and ExtraSamples doesn't match SamplesPerPixel. Defining non-color channels as ExtraSamples.\n"
          ]
        },
        {
          "metadata": {
            "tags": null
          },
          "name": "stdout",
          "output_type": "stream",
          "text": [
            "Processing image 14/1200: 00013.tif\n"
          ]
        },
        {
          "metadata": {
            "tags": null
          },
          "name": "stderr",
          "output_type": "stream",
          "text": [
            "WARNING:rasterio._env:CPLE_AppDefined in 00014.tif: TIFFReadDirectory:Sum of Photometric type-related color channels and ExtraSamples doesn't match SamplesPerPixel. Defining non-color channels as ExtraSamples.\n",
            "WARNING:rasterio._env:CPLE_AppDefined in TIFFReadDirectory:Sum of Photometric type-related color channels and ExtraSamples doesn't match SamplesPerPixel. Defining non-color channels as ExtraSamples.\n"
          ]
        },
        {
          "metadata": {
            "tags": null
          },
          "name": "stdout",
          "output_type": "stream",
          "text": [
            "Processing image 15/1200: 00014.tif\n"
          ]
        },
        {
          "metadata": {
            "tags": null
          },
          "name": "stderr",
          "output_type": "stream",
          "text": [
            "WARNING:rasterio._env:CPLE_AppDefined in 00015.tif: TIFFReadDirectory:Sum of Photometric type-related color channels and ExtraSamples doesn't match SamplesPerPixel. Defining non-color channels as ExtraSamples.\n",
            "WARNING:rasterio._env:CPLE_AppDefined in TIFFReadDirectory:Sum of Photometric type-related color channels and ExtraSamples doesn't match SamplesPerPixel. Defining non-color channels as ExtraSamples.\n"
          ]
        },
        {
          "metadata": {
            "tags": null
          },
          "name": "stdout",
          "output_type": "stream",
          "text": [
            "Processing image 16/1200: 00015.tif\n"
          ]
        },
        {
          "metadata": {
            "tags": null
          },
          "name": "stderr",
          "output_type": "stream",
          "text": [
            "WARNING:rasterio._env:CPLE_AppDefined in 00016.tif: TIFFReadDirectory:Sum of Photometric type-related color channels and ExtraSamples doesn't match SamplesPerPixel. Defining non-color channels as ExtraSamples.\n",
            "WARNING:rasterio._env:CPLE_AppDefined in TIFFReadDirectory:Sum of Photometric type-related color channels and ExtraSamples doesn't match SamplesPerPixel. Defining non-color channels as ExtraSamples.\n"
          ]
        },
        {
          "metadata": {
            "tags": null
          },
          "name": "stdout",
          "output_type": "stream",
          "text": [
            "Processing image 17/1200: 00016.tif\n"
          ]
        },
        {
          "metadata": {
            "tags": null
          },
          "name": "stderr",
          "output_type": "stream",
          "text": [
            "WARNING:rasterio._env:CPLE_AppDefined in 00017.tif: TIFFReadDirectory:Sum of Photometric type-related color channels and ExtraSamples doesn't match SamplesPerPixel. Defining non-color channels as ExtraSamples.\n",
            "WARNING:rasterio._env:CPLE_AppDefined in TIFFReadDirectory:Sum of Photometric type-related color channels and ExtraSamples doesn't match SamplesPerPixel. Defining non-color channels as ExtraSamples.\n"
          ]
        },
        {
          "metadata": {
            "tags": null
          },
          "name": "stdout",
          "output_type": "stream",
          "text": [
            "Processing image 18/1200: 00017.tif\n"
          ]
        },
        {
          "metadata": {
            "tags": null
          },
          "name": "stderr",
          "output_type": "stream",
          "text": [
            "WARNING:rasterio._env:CPLE_AppDefined in 00018.tif: TIFFReadDirectory:Sum of Photometric type-related color channels and ExtraSamples doesn't match SamplesPerPixel. Defining non-color channels as ExtraSamples.\n"
          ]
        },
        {
          "metadata": {
            "tags": null
          },
          "name": "stdout",
          "output_type": "stream",
          "text": [
            "Processing image 19/1200: 00018.tif\n"
          ]
        },
        {
          "metadata": {
            "tags": null
          },
          "name": "stderr",
          "output_type": "stream",
          "text": [
            "WARNING:rasterio._env:CPLE_AppDefined in TIFFReadDirectory:Sum of Photometric type-related color channels and ExtraSamples doesn't match SamplesPerPixel. Defining non-color channels as ExtraSamples.\n",
            "WARNING:rasterio._env:CPLE_AppDefined in 00019.tif: TIFFReadDirectory:Sum of Photometric type-related color channels and ExtraSamples doesn't match SamplesPerPixel. Defining non-color channels as ExtraSamples.\n",
            "WARNING:rasterio._env:CPLE_AppDefined in TIFFReadDirectory:Sum of Photometric type-related color channels and ExtraSamples doesn't match SamplesPerPixel. Defining non-color channels as ExtraSamples.\n"
          ]
        },
        {
          "metadata": {
            "tags": null
          },
          "name": "stdout",
          "output_type": "stream",
          "text": [
            "Processing image 20/1200: 00019.tif\n"
          ]
        },
        {
          "metadata": {
            "tags": null
          },
          "name": "stderr",
          "output_type": "stream",
          "text": [
            "WARNING:rasterio._env:CPLE_AppDefined in 00020.tif: TIFFReadDirectory:Sum of Photometric type-related color channels and ExtraSamples doesn't match SamplesPerPixel. Defining non-color channels as ExtraSamples.\n",
            "WARNING:rasterio._env:CPLE_AppDefined in TIFFReadDirectory:Sum of Photometric type-related color channels and ExtraSamples doesn't match SamplesPerPixel. Defining non-color channels as ExtraSamples.\n"
          ]
        },
        {
          "metadata": {
            "tags": null
          },
          "name": "stdout",
          "output_type": "stream",
          "text": [
            "Processing image 21/1200: 00020.tif\n"
          ]
        },
        {
          "metadata": {
            "tags": null
          },
          "name": "stderr",
          "output_type": "stream",
          "text": [
            "WARNING:rasterio._env:CPLE_AppDefined in 00021.tif: TIFFReadDirectory:Sum of Photometric type-related color channels and ExtraSamples doesn't match SamplesPerPixel. Defining non-color channels as ExtraSamples.\n",
            "WARNING:rasterio._env:CPLE_AppDefined in TIFFReadDirectory:Sum of Photometric type-related color channels and ExtraSamples doesn't match SamplesPerPixel. Defining non-color channels as ExtraSamples.\n"
          ]
        },
        {
          "metadata": {
            "tags": null
          },
          "name": "stdout",
          "output_type": "stream",
          "text": [
            "Processing image 22/1200: 00021.tif\n"
          ]
        },
        {
          "metadata": {
            "tags": null
          },
          "name": "stderr",
          "output_type": "stream",
          "text": [
            "WARNING:rasterio._env:CPLE_AppDefined in 00022.tif: TIFFReadDirectory:Sum of Photometric type-related color channels and ExtraSamples doesn't match SamplesPerPixel. Defining non-color channels as ExtraSamples.\n",
            "WARNING:rasterio._env:CPLE_AppDefined in TIFFReadDirectory:Sum of Photometric type-related color channels and ExtraSamples doesn't match SamplesPerPixel. Defining non-color channels as ExtraSamples.\n"
          ]
        },
        {
          "metadata": {
            "tags": null
          },
          "name": "stdout",
          "output_type": "stream",
          "text": [
            "Processing image 23/1200: 00022.tif\n"
          ]
        },
        {
          "metadata": {
            "tags": null
          },
          "name": "stderr",
          "output_type": "stream",
          "text": [
            "WARNING:rasterio._env:CPLE_AppDefined in 00023.tif: TIFFReadDirectory:Sum of Photometric type-related color channels and ExtraSamples doesn't match SamplesPerPixel. Defining non-color channels as ExtraSamples.\n",
            "WARNING:rasterio._env:CPLE_AppDefined in TIFFReadDirectory:Sum of Photometric type-related color channels and ExtraSamples doesn't match SamplesPerPixel. Defining non-color channels as ExtraSamples.\n"
          ]
        },
        {
          "metadata": {
            "tags": null
          },
          "name": "stdout",
          "output_type": "stream",
          "text": [
            "Processing image 24/1200: 00023.tif\n"
          ]
        },
        {
          "metadata": {
            "tags": null
          },
          "name": "stderr",
          "output_type": "stream",
          "text": [
            "WARNING:rasterio._env:CPLE_AppDefined in 00024.tif: TIFFReadDirectory:Sum of Photometric type-related color channels and ExtraSamples doesn't match SamplesPerPixel. Defining non-color channels as ExtraSamples.\n",
            "WARNING:rasterio._env:CPLE_AppDefined in TIFFReadDirectory:Sum of Photometric type-related color channels and ExtraSamples doesn't match SamplesPerPixel. Defining non-color channels as ExtraSamples.\n"
          ]
        },
        {
          "metadata": {
            "tags": null
          },
          "name": "stdout",
          "output_type": "stream",
          "text": [
            "Processing image 25/1200: 00024.tif\n"
          ]
        },
        {
          "metadata": {
            "tags": null
          },
          "name": "stderr",
          "output_type": "stream",
          "text": [
            "WARNING:rasterio._env:CPLE_AppDefined in 00025.tif: TIFFReadDirectory:Sum of Photometric type-related color channels and ExtraSamples doesn't match SamplesPerPixel. Defining non-color channels as ExtraSamples.\n",
            "WARNING:rasterio._env:CPLE_AppDefined in TIFFReadDirectory:Sum of Photometric type-related color channels and ExtraSamples doesn't match SamplesPerPixel. Defining non-color channels as ExtraSamples.\n"
          ]
        },
        {
          "metadata": {
            "tags": null
          },
          "name": "stdout",
          "output_type": "stream",
          "text": [
            "Processing image 26/1200: 00025.tif\n"
          ]
        },
        {
          "metadata": {
            "tags": null
          },
          "name": "stderr",
          "output_type": "stream",
          "text": [
            "WARNING:rasterio._env:CPLE_AppDefined in 00026.tif: TIFFReadDirectory:Sum of Photometric type-related color channels and ExtraSamples doesn't match SamplesPerPixel. Defining non-color channels as ExtraSamples.\n",
            "WARNING:rasterio._env:CPLE_AppDefined in TIFFReadDirectory:Sum of Photometric type-related color channels and ExtraSamples doesn't match SamplesPerPixel. Defining non-color channels as ExtraSamples.\n"
          ]
        },
        {
          "metadata": {
            "tags": null
          },
          "name": "stdout",
          "output_type": "stream",
          "text": [
            "Processing image 27/1200: 00026.tif\n"
          ]
        },
        {
          "metadata": {
            "tags": null
          },
          "name": "stderr",
          "output_type": "stream",
          "text": [
            "WARNING:rasterio._env:CPLE_AppDefined in 00027.tif: TIFFReadDirectory:Sum of Photometric type-related color channels and ExtraSamples doesn't match SamplesPerPixel. Defining non-color channels as ExtraSamples.\n",
            "WARNING:rasterio._env:CPLE_AppDefined in TIFFReadDirectory:Sum of Photometric type-related color channels and ExtraSamples doesn't match SamplesPerPixel. Defining non-color channels as ExtraSamples.\n"
          ]
        },
        {
          "metadata": {
            "tags": null
          },
          "name": "stdout",
          "output_type": "stream",
          "text": [
            "Processing image 28/1200: 00027.tif\n"
          ]
        },
        {
          "metadata": {
            "tags": null
          },
          "name": "stderr",
          "output_type": "stream",
          "text": [
            "WARNING:rasterio._env:CPLE_AppDefined in 00028.tif: TIFFReadDirectory:Sum of Photometric type-related color channels and ExtraSamples doesn't match SamplesPerPixel. Defining non-color channels as ExtraSamples.\n",
            "WARNING:rasterio._env:CPLE_AppDefined in TIFFReadDirectory:Sum of Photometric type-related color channels and ExtraSamples doesn't match SamplesPerPixel. Defining non-color channels as ExtraSamples.\n"
          ]
        },
        {
          "metadata": {
            "tags": null
          },
          "name": "stdout",
          "output_type": "stream",
          "text": [
            "Processing image 29/1200: 00028.tif\n"
          ]
        },
        {
          "metadata": {
            "tags": null
          },
          "name": "stderr",
          "output_type": "stream",
          "text": [
            "WARNING:rasterio._env:CPLE_AppDefined in 00029.tif: TIFFReadDirectory:Sum of Photometric type-related color channels and ExtraSamples doesn't match SamplesPerPixel. Defining non-color channels as ExtraSamples.\n",
            "WARNING:rasterio._env:CPLE_AppDefined in TIFFReadDirectory:Sum of Photometric type-related color channels and ExtraSamples doesn't match SamplesPerPixel. Defining non-color channels as ExtraSamples.\n"
          ]
        },
        {
          "metadata": {
            "tags": null
          },
          "name": "stdout",
          "output_type": "stream",
          "text": [
            "Processing image 30/1200: 00029.tif\n"
          ]
        },
        {
          "metadata": {
            "tags": null
          },
          "name": "stderr",
          "output_type": "stream",
          "text": [
            "WARNING:rasterio._env:CPLE_AppDefined in 00030.tif: TIFFReadDirectory:Sum of Photometric type-related color channels and ExtraSamples doesn't match SamplesPerPixel. Defining non-color channels as ExtraSamples.\n",
            "WARNING:rasterio._env:CPLE_AppDefined in TIFFReadDirectory:Sum of Photometric type-related color channels and ExtraSamples doesn't match SamplesPerPixel. Defining non-color channels as ExtraSamples.\n"
          ]
        },
        {
          "metadata": {
            "tags": null
          },
          "name": "stdout",
          "output_type": "stream",
          "text": [
            "Processing image 31/1200: 00030.tif\n"
          ]
        },
        {
          "metadata": {
            "tags": null
          },
          "name": "stderr",
          "output_type": "stream",
          "text": [
            "WARNING:rasterio._env:CPLE_AppDefined in 00031.tif: TIFFReadDirectory:Sum of Photometric type-related color channels and ExtraSamples doesn't match SamplesPerPixel. Defining non-color channels as ExtraSamples.\n",
            "WARNING:rasterio._env:CPLE_AppDefined in TIFFReadDirectory:Sum of Photometric type-related color channels and ExtraSamples doesn't match SamplesPerPixel. Defining non-color channels as ExtraSamples.\n"
          ]
        },
        {
          "metadata": {
            "tags": null
          },
          "name": "stdout",
          "output_type": "stream",
          "text": [
            "Processing image 32/1200: 00031.tif\n"
          ]
        },
        {
          "metadata": {
            "tags": null
          },
          "name": "stderr",
          "output_type": "stream",
          "text": [
            "WARNING:rasterio._env:CPLE_AppDefined in 00032.tif: TIFFReadDirectory:Sum of Photometric type-related color channels and ExtraSamples doesn't match SamplesPerPixel. Defining non-color channels as ExtraSamples.\n",
            "WARNING:rasterio._env:CPLE_AppDefined in TIFFReadDirectory:Sum of Photometric type-related color channels and ExtraSamples doesn't match SamplesPerPixel. Defining non-color channels as ExtraSamples.\n"
          ]
        },
        {
          "metadata": {
            "tags": null
          },
          "name": "stdout",
          "output_type": "stream",
          "text": [
            "Processing image 33/1200: 00032.tif\n"
          ]
        },
        {
          "metadata": {
            "tags": null
          },
          "name": "stderr",
          "output_type": "stream",
          "text": [
            "WARNING:rasterio._env:CPLE_AppDefined in 00036.tif: TIFFReadDirectory:Sum of Photometric type-related color channels and ExtraSamples doesn't match SamplesPerPixel. Defining non-color channels as ExtraSamples.\n",
            "WARNING:rasterio._env:CPLE_AppDefined in TIFFReadDirectory:Sum of Photometric type-related color channels and ExtraSamples doesn't match SamplesPerPixel. Defining non-color channels as ExtraSamples.\n"
          ]
        },
        {
          "metadata": {
            "tags": null
          },
          "name": "stdout",
          "output_type": "stream",
          "text": [
            "Processing image 34/1200: 00036.tif\n"
          ]
        },
        {
          "output_type": "stream",
          "name": "stderr",
          "text": [
            "WARNING:rasterio._env:CPLE_AppDefined in 00037.tif: TIFFReadDirectory:Sum of Photometric type-related color channels and ExtraSamples doesn't match SamplesPerPixel. Defining non-color channels as ExtraSamples.\n",
            "WARNING:rasterio._env:CPLE_AppDefined in TIFFReadDirectory:Sum of Photometric type-related color channels and ExtraSamples doesn't match SamplesPerPixel. Defining non-color channels as ExtraSamples.\n"
          ]
        },
        {
          "output_type": "stream",
          "name": "stdout",
          "text": [
            "Processing image 35/1200: 00037.tif\n",
            "Processing image 36/1200: 00038.tif\n"
          ]
        },
        {
          "output_type": "error",
          "ename": "KeyboardInterrupt",
          "evalue": "",
          "traceback": [
            "\u001b[0;31m---------------------------------------------------------------------------\u001b[0m",
            "\u001b[0;31mKeyboardInterrupt\u001b[0m                         Traceback (most recent call last)",
            "\u001b[0;32m/usr/lib/python3.11/logging/__init__.py\u001b[0m in \u001b[0;36mlog\u001b[0;34m(self, level, msg, *args, **kwargs)\u001b[0m\n\u001b[1;32m   1542\u001b[0m         \u001b[0mself\u001b[0m\u001b[0;34m.\u001b[0m\u001b[0mcritical\u001b[0m\u001b[0;34m(\u001b[0m\u001b[0mmsg\u001b[0m\u001b[0;34m,\u001b[0m \u001b[0;34m*\u001b[0m\u001b[0margs\u001b[0m\u001b[0;34m,\u001b[0m \u001b[0;34m**\u001b[0m\u001b[0mkwargs\u001b[0m\u001b[0;34m)\u001b[0m\u001b[0;34m\u001b[0m\u001b[0;34m\u001b[0m\u001b[0m\n\u001b[1;32m   1543\u001b[0m \u001b[0;34m\u001b[0m\u001b[0m\n\u001b[0;32m-> 1544\u001b[0;31m     \u001b[0;32mdef\u001b[0m \u001b[0mlog\u001b[0m\u001b[0;34m(\u001b[0m\u001b[0mself\u001b[0m\u001b[0;34m,\u001b[0m \u001b[0mlevel\u001b[0m\u001b[0;34m,\u001b[0m \u001b[0mmsg\u001b[0m\u001b[0;34m,\u001b[0m \u001b[0;34m*\u001b[0m\u001b[0margs\u001b[0m\u001b[0;34m,\u001b[0m \u001b[0;34m**\u001b[0m\u001b[0mkwargs\u001b[0m\u001b[0;34m)\u001b[0m\u001b[0;34m:\u001b[0m\u001b[0;34m\u001b[0m\u001b[0;34m\u001b[0m\u001b[0m\n\u001b[0m\u001b[1;32m   1545\u001b[0m         \"\"\"\n\u001b[1;32m   1546\u001b[0m         \u001b[0mLog\u001b[0m \u001b[0;34m'msg % args'\u001b[0m \u001b[0;32mwith\u001b[0m \u001b[0mthe\u001b[0m \u001b[0minteger\u001b[0m \u001b[0mseverity\u001b[0m \u001b[0;34m'level'\u001b[0m\u001b[0;34m.\u001b[0m\u001b[0;34m\u001b[0m\u001b[0;34m\u001b[0m\u001b[0m\n",
            "\u001b[0;31mKeyboardInterrupt\u001b[0m: "
          ]
        },
        {
          "output_type": "stream",
          "name": "stderr",
          "text": [
            "Exception ignored in: 'rasterio._env.log_error'\n",
            "Traceback (most recent call last):\n",
            "  File \"/usr/lib/python3.11/logging/__init__.py\", line 1544, in log\n",
            "    def log(self, level, msg, *args, **kwargs):\n",
            "\n",
            "KeyboardInterrupt: \n",
            "WARNING:rasterio._env:CPLE_AppDefined in TIFFReadDirectory:Sum of Photometric type-related color channels and ExtraSamples doesn't match SamplesPerPixel. Defining non-color channels as ExtraSamples.\n",
            "WARNING:rasterio._env:CPLE_AppDefined in 00039.tif: TIFFReadDirectory:Sum of Photometric type-related color channels and ExtraSamples doesn't match SamplesPerPixel. Defining non-color channels as ExtraSamples.\n",
            "WARNING:rasterio._env:CPLE_AppDefined in TIFFReadDirectory:Sum of Photometric type-related color channels and ExtraSamples doesn't match SamplesPerPixel. Defining non-color channels as ExtraSamples.\n"
          ]
        },
        {
          "output_type": "stream",
          "name": "stdout",
          "text": [
            "Processing image 37/1200: 00039.tif\n"
          ]
        },
        {
          "output_type": "stream",
          "name": "stderr",
          "text": [
            "WARNING:rasterio._env:CPLE_AppDefined in 00040.tif: TIFFReadDirectory:Sum of Photometric type-related color channels and ExtraSamples doesn't match SamplesPerPixel. Defining non-color channels as ExtraSamples.\n",
            "WARNING:rasterio._env:CPLE_AppDefined in TIFFReadDirectory:Sum of Photometric type-related color channels and ExtraSamples doesn't match SamplesPerPixel. Defining non-color channels as ExtraSamples.\n"
          ]
        },
        {
          "output_type": "stream",
          "name": "stdout",
          "text": [
            "Processing image 38/1200: 00040.tif\n"
          ]
        },
        {
          "output_type": "stream",
          "name": "stderr",
          "text": [
            "WARNING:rasterio._env:CPLE_AppDefined in 00041.tif: TIFFReadDirectory:Sum of Photometric type-related color channels and ExtraSamples doesn't match SamplesPerPixel. Defining non-color channels as ExtraSamples.\n",
            "WARNING:rasterio._env:CPLE_AppDefined in TIFFReadDirectory:Sum of Photometric type-related color channels and ExtraSamples doesn't match SamplesPerPixel. Defining non-color channels as ExtraSamples.\n"
          ]
        },
        {
          "output_type": "stream",
          "name": "stdout",
          "text": [
            "Processing image 39/1200: 00041.tif\n"
          ]
        },
        {
          "output_type": "stream",
          "name": "stderr",
          "text": [
            "WARNING:rasterio._env:CPLE_AppDefined in 00042.tif: TIFFReadDirectory:Sum of Photometric type-related color channels and ExtraSamples doesn't match SamplesPerPixel. Defining non-color channels as ExtraSamples.\n",
            "WARNING:rasterio._env:CPLE_AppDefined in TIFFReadDirectory:Sum of Photometric type-related color channels and ExtraSamples doesn't match SamplesPerPixel. Defining non-color channels as ExtraSamples.\n"
          ]
        },
        {
          "output_type": "stream",
          "name": "stdout",
          "text": [
            "Processing image 40/1200: 00042.tif\n"
          ]
        },
        {
          "output_type": "stream",
          "name": "stderr",
          "text": [
            "WARNING:rasterio._env:CPLE_AppDefined in 00043.tif: TIFFReadDirectory:Sum of Photometric type-related color channels and ExtraSamples doesn't match SamplesPerPixel. Defining non-color channels as ExtraSamples.\n",
            "WARNING:rasterio._env:CPLE_AppDefined in TIFFReadDirectory:Sum of Photometric type-related color channels and ExtraSamples doesn't match SamplesPerPixel. Defining non-color channels as ExtraSamples.\n"
          ]
        },
        {
          "output_type": "stream",
          "name": "stdout",
          "text": [
            "Processing image 41/1200: 00043.tif\n"
          ]
        },
        {
          "output_type": "stream",
          "name": "stderr",
          "text": [
            "WARNING:rasterio._env:CPLE_AppDefined in 00045.tif: TIFFReadDirectory:Sum of Photometric type-related color channels and ExtraSamples doesn't match SamplesPerPixel. Defining non-color channels as ExtraSamples.\n",
            "WARNING:rasterio._env:CPLE_AppDefined in TIFFReadDirectory:Sum of Photometric type-related color channels and ExtraSamples doesn't match SamplesPerPixel. Defining non-color channels as ExtraSamples.\n"
          ]
        },
        {
          "output_type": "stream",
          "name": "stdout",
          "text": [
            "Processing image 42/1200: 00045.tif\n"
          ]
        },
        {
          "output_type": "stream",
          "name": "stderr",
          "text": [
            "WARNING:rasterio._env:CPLE_AppDefined in 00046.tif: TIFFReadDirectory:Sum of Photometric type-related color channels and ExtraSamples doesn't match SamplesPerPixel. Defining non-color channels as ExtraSamples.\n",
            "WARNING:rasterio._env:CPLE_AppDefined in TIFFReadDirectory:Sum of Photometric type-related color channels and ExtraSamples doesn't match SamplesPerPixel. Defining non-color channels as ExtraSamples.\n"
          ]
        },
        {
          "output_type": "stream",
          "name": "stdout",
          "text": [
            "Processing image 43/1200: 00046.tif\n"
          ]
        },
        {
          "output_type": "stream",
          "name": "stderr",
          "text": [
            "WARNING:rasterio._env:CPLE_AppDefined in 00047.tif: TIFFReadDirectory:Sum of Photometric type-related color channels and ExtraSamples doesn't match SamplesPerPixel. Defining non-color channels as ExtraSamples.\n",
            "WARNING:rasterio._env:CPLE_AppDefined in TIFFReadDirectory:Sum of Photometric type-related color channels and ExtraSamples doesn't match SamplesPerPixel. Defining non-color channels as ExtraSamples.\n"
          ]
        },
        {
          "output_type": "stream",
          "name": "stdout",
          "text": [
            "Processing image 44/1200: 00047.tif\n"
          ]
        },
        {
          "output_type": "stream",
          "name": "stderr",
          "text": [
            "WARNING:rasterio._env:CPLE_AppDefined in 00048.tif: TIFFReadDirectory:Sum of Photometric type-related color channels and ExtraSamples doesn't match SamplesPerPixel. Defining non-color channels as ExtraSamples.\n",
            "WARNING:rasterio._env:CPLE_AppDefined in TIFFReadDirectory:Sum of Photometric type-related color channels and ExtraSamples doesn't match SamplesPerPixel. Defining non-color channels as ExtraSamples.\n"
          ]
        },
        {
          "output_type": "stream",
          "name": "stdout",
          "text": [
            "Processing image 45/1200: 00048.tif\n"
          ]
        },
        {
          "output_type": "stream",
          "name": "stderr",
          "text": [
            "WARNING:rasterio._env:CPLE_AppDefined in 00050.tif: TIFFReadDirectory:Sum of Photometric type-related color channels and ExtraSamples doesn't match SamplesPerPixel. Defining non-color channels as ExtraSamples.\n",
            "WARNING:rasterio._env:CPLE_AppDefined in TIFFReadDirectory:Sum of Photometric type-related color channels and ExtraSamples doesn't match SamplesPerPixel. Defining non-color channels as ExtraSamples.\n"
          ]
        },
        {
          "output_type": "stream",
          "name": "stdout",
          "text": [
            "Processing image 46/1200: 00050.tif\n"
          ]
        },
        {
          "output_type": "stream",
          "name": "stderr",
          "text": [
            "WARNING:rasterio._env:CPLE_AppDefined in 00051.tif: TIFFReadDirectory:Sum of Photometric type-related color channels and ExtraSamples doesn't match SamplesPerPixel. Defining non-color channels as ExtraSamples.\n",
            "WARNING:rasterio._env:CPLE_AppDefined in TIFFReadDirectory:Sum of Photometric type-related color channels and ExtraSamples doesn't match SamplesPerPixel. Defining non-color channels as ExtraSamples.\n"
          ]
        },
        {
          "output_type": "stream",
          "name": "stdout",
          "text": [
            "Processing image 47/1200: 00051.tif\n"
          ]
        },
        {
          "output_type": "stream",
          "name": "stderr",
          "text": [
            "WARNING:rasterio._env:CPLE_AppDefined in 00052.tif: TIFFReadDirectory:Sum of Photometric type-related color channels and ExtraSamples doesn't match SamplesPerPixel. Defining non-color channels as ExtraSamples.\n",
            "WARNING:rasterio._env:CPLE_AppDefined in TIFFReadDirectory:Sum of Photometric type-related color channels and ExtraSamples doesn't match SamplesPerPixel. Defining non-color channels as ExtraSamples.\n"
          ]
        },
        {
          "output_type": "stream",
          "name": "stdout",
          "text": [
            "Processing image 48/1200: 00052.tif\n"
          ]
        },
        {
          "output_type": "stream",
          "name": "stderr",
          "text": [
            "WARNING:rasterio._env:CPLE_AppDefined in 00053.tif: TIFFReadDirectory:Sum of Photometric type-related color channels and ExtraSamples doesn't match SamplesPerPixel. Defining non-color channels as ExtraSamples.\n",
            "WARNING:rasterio._env:CPLE_AppDefined in TIFFReadDirectory:Sum of Photometric type-related color channels and ExtraSamples doesn't match SamplesPerPixel. Defining non-color channels as ExtraSamples.\n"
          ]
        },
        {
          "output_type": "stream",
          "name": "stdout",
          "text": [
            "Processing image 49/1200: 00053.tif\n"
          ]
        },
        {
          "output_type": "stream",
          "name": "stderr",
          "text": [
            "WARNING:rasterio._env:CPLE_AppDefined in 00054.tif: TIFFReadDirectory:Sum of Photometric type-related color channels and ExtraSamples doesn't match SamplesPerPixel. Defining non-color channels as ExtraSamples.\n",
            "WARNING:rasterio._env:CPLE_AppDefined in TIFFReadDirectory:Sum of Photometric type-related color channels and ExtraSamples doesn't match SamplesPerPixel. Defining non-color channels as ExtraSamples.\n"
          ]
        },
        {
          "output_type": "stream",
          "name": "stdout",
          "text": [
            "Processing image 50/1200: 00054.tif\n"
          ]
        },
        {
          "output_type": "stream",
          "name": "stderr",
          "text": [
            "WARNING:rasterio._env:CPLE_AppDefined in 00055.tif: TIFFReadDirectory:Sum of Photometric type-related color channels and ExtraSamples doesn't match SamplesPerPixel. Defining non-color channels as ExtraSamples.\n",
            "WARNING:rasterio._env:CPLE_AppDefined in TIFFReadDirectory:Sum of Photometric type-related color channels and ExtraSamples doesn't match SamplesPerPixel. Defining non-color channels as ExtraSamples.\n"
          ]
        },
        {
          "output_type": "stream",
          "name": "stdout",
          "text": [
            "Processing image 51/1200: 00055.tif\n"
          ]
        },
        {
          "output_type": "stream",
          "name": "stderr",
          "text": [
            "WARNING:rasterio._env:CPLE_AppDefined in 00056.tif: TIFFReadDirectory:Sum of Photometric type-related color channels and ExtraSamples doesn't match SamplesPerPixel. Defining non-color channels as ExtraSamples.\n",
            "WARNING:rasterio._env:CPLE_AppDefined in TIFFReadDirectory:Sum of Photometric type-related color channels and ExtraSamples doesn't match SamplesPerPixel. Defining non-color channels as ExtraSamples.\n"
          ]
        },
        {
          "output_type": "stream",
          "name": "stdout",
          "text": [
            "Processing image 52/1200: 00056.tif\n"
          ]
        },
        {
          "output_type": "stream",
          "name": "stderr",
          "text": [
            "WARNING:rasterio._env:CPLE_AppDefined in 00057.tif: TIFFReadDirectory:Sum of Photometric type-related color channels and ExtraSamples doesn't match SamplesPerPixel. Defining non-color channels as ExtraSamples.\n",
            "WARNING:rasterio._env:CPLE_AppDefined in TIFFReadDirectory:Sum of Photometric type-related color channels and ExtraSamples doesn't match SamplesPerPixel. Defining non-color channels as ExtraSamples.\n"
          ]
        },
        {
          "output_type": "stream",
          "name": "stdout",
          "text": [
            "Processing image 53/1200: 00057.tif\n"
          ]
        },
        {
          "output_type": "stream",
          "name": "stderr",
          "text": [
            "WARNING:rasterio._env:CPLE_AppDefined in 00058.tif: TIFFReadDirectory:Sum of Photometric type-related color channels and ExtraSamples doesn't match SamplesPerPixel. Defining non-color channels as ExtraSamples.\n",
            "WARNING:rasterio._env:CPLE_AppDefined in TIFFReadDirectory:Sum of Photometric type-related color channels and ExtraSamples doesn't match SamplesPerPixel. Defining non-color channels as ExtraSamples.\n"
          ]
        },
        {
          "output_type": "stream",
          "name": "stdout",
          "text": [
            "Processing image 54/1200: 00058.tif\n"
          ]
        },
        {
          "output_type": "stream",
          "name": "stderr",
          "text": [
            "WARNING:rasterio._env:CPLE_AppDefined in 00059.tif: TIFFReadDirectory:Sum of Photometric type-related color channels and ExtraSamples doesn't match SamplesPerPixel. Defining non-color channels as ExtraSamples.\n",
            "WARNING:rasterio._env:CPLE_AppDefined in TIFFReadDirectory:Sum of Photometric type-related color channels and ExtraSamples doesn't match SamplesPerPixel. Defining non-color channels as ExtraSamples.\n"
          ]
        },
        {
          "output_type": "stream",
          "name": "stdout",
          "text": [
            "Processing image 55/1200: 00059.tif\n"
          ]
        },
        {
          "output_type": "stream",
          "name": "stderr",
          "text": [
            "WARNING:rasterio._env:CPLE_AppDefined in 00061.tif: TIFFReadDirectory:Sum of Photometric type-related color channels and ExtraSamples doesn't match SamplesPerPixel. Defining non-color channels as ExtraSamples.\n",
            "WARNING:rasterio._env:CPLE_AppDefined in TIFFReadDirectory:Sum of Photometric type-related color channels and ExtraSamples doesn't match SamplesPerPixel. Defining non-color channels as ExtraSamples.\n"
          ]
        },
        {
          "output_type": "stream",
          "name": "stdout",
          "text": [
            "Processing image 56/1200: 00061.tif\n"
          ]
        }
      ]
    },
    {
      "cell_type": "code",
      "source": [
        "#Plotting Predicted mask and Truth MAsk\n",
        "\n",
        "import os\n",
        "from glob import glob\n",
        "import matplotlib.pyplot as plt\n",
        "import rasterio\n",
        "\n",
        "# Directory for generated masks\n",
        "output_mask_directory = \"/content/drive/My Drive/iitisoc_ps1/oil_spill_mask/\"\n",
        "\n",
        "# Directory for ground truth masks\n",
        "ground_truth_directory = \"/content/drive/My Drive/iitisoc_ps1/sar_dataset/Train_Val_Oil_Spill_mask/Mask_oil/\"\n",
        "\n",
        "\n",
        "# Plot a sample from the generated masks\n",
        "mask_files_to_plot = sorted(glob(os.path.join(output_mask_directory, \"*.tif\")))\n",
        "\n",
        "if mask_files_to_plot:\n",
        "    # Select the first mask file found\n",
        "    sample_mask_file = mask_files_to_plot[51]\n",
        "    print(f\"Plotting sample generated mask file: {sample_mask_file}\")\n",
        "\n",
        "    try:\n",
        "        with rasterio.open(sample_mask_file) as src:\n",
        "            mask_image = src.read(1)  # Read the first band\n",
        "\n",
        "        plt.figure(figsize=(8, 6))\n",
        "        plt.imshow(mask_image, cmap='gray')\n",
        "        plt.title(f\"Sample Generated Mask: {os.path.basename(sample_mask_file)}\")\n",
        "        plt.colorbar(label='Pixel Value')\n",
        "        plt.axis('off')\n",
        "        plt.show()\n",
        "\n",
        "    except Exception as e:\n",
        "        print(f\"Error reading or plotting {sample_mask_file}: {e}\")\n",
        "else:\n",
        "    print(f\"No .tif files found in the generated masks directory: {output_mask_directory}\")\n",
        "\n",
        "print(\"-\" * 30) # Separator\n",
        "\n",
        "# Plot a sample from the ground truth masks\n",
        "ground_truth_files_to_plot = sorted(glob(os.path.join(ground_truth_directory, \"*.tif\")))\n",
        "\n",
        "if ground_truth_files_to_plot:\n",
        "    # Select the first ground truth mask file found\n",
        "    sample_truth_file = ground_truth_files_to_plot[51]\n",
        "    print(f\"Plotting sample ground truth mask file: {sample_truth_file}\")\n",
        "\n",
        "    try:\n",
        "        with rasterio.open(sample_truth_file) as src:\n",
        "            truth_image = src.read(1)  # Read the first band\n",
        "\n",
        "        plt.figure(figsize=(8, 6))\n",
        "        plt.imshow(truth_image, cmap='gray')\n",
        "        plt.title(f\"Sample Ground Truth Mask: {os.path.basename(sample_truth_file)}\")\n",
        "        plt.colorbar(label='Pixel Value')\n",
        "        plt.axis('off')\n",
        "        plt.show()\n",
        "\n",
        "    except Exception as e:\n",
        "        print(f\"Error reading or plotting {sample_truth_file}: {e}\")\n",
        "else:\n",
        "    print(f\"No .tif files found in the ground truth masks directory: {ground_truth_directory}\")"
      ],
      "metadata": {
        "id": "S8s8fmcJxaEu"
      },
      "execution_count": null,
      "outputs": []
    },
    {
      "cell_type": "code",
      "source": [
        "import os\n",
        "from glob import glob\n",
        "import matplotlib.pyplot as plt\n",
        "import rasterio\n",
        "import numpy as np\n",
        "import cv2\n",
        "from sklearn.metrics import accuracy_score, precision_score, recall_score, f1_score\n",
        "\n",
        "def compute_iou(mask_true, mask_pred):\n",
        "    \"\"\"Compute Intersection over Union (IoU)\"\"\"\n",
        "    intersection = np.logical_and(mask_true, mask_pred)\n",
        "    union = np.logical_or(mask_true, mask_pred)\n",
        "    return np.sum(intersection) / np.sum(union) if np.sum(union) > 0 else 0.0\n",
        "\n",
        "\n",
        "# Directory for generated masks\n",
        "output_mask_directory = \"/content/drive/My Drive/iitisoc_ps1/oil_spill_mask/\"\n",
        "\n",
        "# Directory for ground truth masks\n",
        "ground_truth_directory = \"/content/drive/My Drive/iitisoc_ps1/sar_dataset/Train_Val_Oil_Spill_mask/Mask_oil/\"\n",
        "\n",
        "# --- Plotting Sample Masks (existing functionality) ---\n",
        "mask_files_to_plot = sorted(glob(os.path.join(output_mask_directory, \"*.tif\")))\n",
        "ground_truth_files_to_plot = sorted(glob(os.path.join(ground_truth_directory, \"*.tif\")))\n",
        "\n",
        "# Select image index (for example, index 51)\n",
        "image_index = 51\n",
        "\n",
        "if len(mask_files_to_plot) > image_index and len(ground_truth_files_to_plot) > image_index:\n",
        "    sample_generated_mask_file = mask_files_to_plot[image_index]\n",
        "    sample_ground_truth_file = ground_truth_files_to_plot[image_index]\n",
        "\n",
        "    print(f\"Plotting sample generated mask file: {sample_generated_mask_file}\")\n",
        "    try:\n",
        "        with rasterio.open(sample_generated_mask_file) as src:\n",
        "            generated_mask_image = src.read(1)\n",
        "\n",
        "        plt.figure(figsize=(8, 6))\n",
        "        plt.imshow(generated_mask_image, cmap='gray')\n",
        "        plt.title(f\"Sample Generated Mask: {os.path.basename(sample_generated_mask_file)}\")\n",
        "        plt.colorbar(label='Pixel Value')\n",
        "        plt.axis('off')\n",
        "        plt.show()\n",
        "\n",
        "    except Exception as e:\n",
        "        print(f\"Error reading or plotting {sample_generated_mask_file}: {e}\")\n",
        "\n",
        "    print(\"-\" * 30) # Separator\n",
        "\n",
        "    print(f\"Plotting sample ground truth mask file: {sample_ground_truth_file}\")\n",
        "    try:\n",
        "        with rasterio.open(sample_ground_truth_file) as src:\n",
        "            ground_truth_image = src.read(1)\n",
        "\n",
        "        plt.figure(figsize=(8, 6))\n",
        "        plt.imshow(ground_truth_image, cmap='gray')\n",
        "        plt.title(f\"Sample Ground Truth Mask: {os.path.basename(sample_ground_truth_file)}\")\n",
        "        plt.colorbar(label='Pixel Value')\n",
        "        plt.axis('off')\n",
        "        plt.show()\n",
        "\n",
        "    except Exception as e:\n",
        "        print(f\"Error reading or plotting {sample_ground_truth_file}: {e}\")\n",
        "\n",
        "    print(\"-\" * 30) # Separator\n",
        "\n",
        "    # --- Comparison for image number 51 ---\n",
        "    print(f\"Comparing masks for image index {image_index} ({os.path.basename(sample_generated_mask_file)})...\")\n",
        "\n",
        "    # Load predicted and truth masks for comparison (using cv2 for easier metric calculation)\n",
        "    try:\n",
        "        pred_mask = cv2.imread(sample_generated_mask_file, cv2.IMREAD_GRAYSCALE)\n",
        "        truth_mask = cv2.imread(sample_ground_truth_file, cv2.IMREAD_GRAYSCALE)\n",
        "\n",
        "        if pred_mask is None or truth_mask is None:\n",
        "             print(f\"Error loading masks for comparison.\")\n",
        "        elif pred_mask.shape != truth_mask.shape:\n",
        "            print(f\"Dimension mismatch for image index {image_index}. Cannot compare.\")\n",
        "        else:\n",
        "            # Binarize masks (assuming 0-255 range, converting to 0 or 1)\n",
        "            _, pred_bin = cv2.threshold(pred_mask, 127, 1, cv2.THRESH_BINARY)\n",
        "            _, truth_bin = cv2.threshold(truth_mask, 127, 1, cv2.THRESH_BINARY)\n",
        "\n",
        "            # Flatten arrays for sklearn metrics\n",
        "            pred_flat = pred_bin.ravel()\n",
        "            truth_flat = truth_bin.ravel()\n",
        "\n",
        "            # Compute metrics\n",
        "            # Removed the check for positive pixels in ground truth to calculate metrics regardless\n",
        "            accuracy = accuracy_score(truth_flat, pred_flat)\n",
        "            # Handle cases with no positive predictions or no positive truth for precision/recall/f1\n",
        "            precision = precision_score(truth_flat, pred_flat, zero_division=0)\n",
        "            recall = recall_score(truth_flat, pred_flat, zero_division=0)\n",
        "            f1 = f1_score(truth_flat, pred_flat, zero_division=0)\n",
        "            iou = compute_iou(truth_bin, pred_bin)\n",
        "\n",
        "            print(f\"Metrics for Image Index {image_index} ({os.path.basename(sample_generated_mask_file)}):\")\n",
        "            print(f\"Accuracy:  {accuracy:.4f}\")\n",
        "            print(f\"Precision: {precision:.4f}\")\n",
        "            print(f\"Recall:    {recall:.4f}\")\n",
        "            print(f\"F1 Score:  {f1:.4f}\")\n",
        "            print(f\"IoU:       {iou:.4f}\")\n",
        "\n",
        "\n",
        "    except Exception as e:\n",
        "        print(f\"Error during comparison for image index {image_index}: {e}\")\n",
        "\n",
        "else:\n",
        "    print(f\"Error: Not enough files found in one or both directories to select image index {image_index}.\")"
      ],
      "metadata": {
        "id": "_JW2Ce3j1xnU"
      },
      "execution_count": null,
      "outputs": []
    },
    {
      "cell_type": "code",
      "source": [
        "import os\n",
        "import glob\n",
        "import numpy as np\n",
        "from PIL import Image\n",
        "import matplotlib.pyplot as plt\n",
        "\n",
        "def extract_id(path):\n",
        "    \"\"\"Extract numeric ID from filename\"\"\"\n",
        "    filename = os.path.basename(path)\n",
        "    digits = ''.join(filter(str.isdigit, filename))\n",
        "    return int(digits) if digits else -1\n",
        "\n",
        "def calculate_metrics(gt_mask, pred_mask):\n",
        "    \"\"\"Calculate class-wise and overall metrics with class-wise accuracy\"\"\"\n",
        "    # Flatten masks to 1D arrays\n",
        "    y_true = gt_mask.flatten()\n",
        "    y_pred = pred_mask.flatten()\n",
        "\n",
        "    # Initialize metrics storage\n",
        "    metrics = {\n",
        "        'class_0': {'name': 'Background'},\n",
        "        'class_1': {'name': 'Oil Spill'},\n",
        "        'overall': {}\n",
        "    }\n",
        "\n",
        "    # Calculate confusion matrix elements\n",
        "    tp0 = np.sum((y_true == 0) & (y_pred == 0))\n",
        "    fp0 = np.sum((y_true != 0) & (y_pred == 0))\n",
        "    fn0 = np.sum((y_true == 0) & (y_pred != 0))\n",
        "    tn0 = np.sum((y_true != 0) & (y_pred != 0))  # True negatives for background\n",
        "\n",
        "    tp1 = np.sum((y_true == 1) & (y_pred == 1))\n",
        "    fp1 = np.sum((y_true != 1) & (y_pred == 1))\n",
        "    fn1 = np.sum((y_true == 1) & (y_pred != 1))\n",
        "    tn1 = np.sum((y_true != 1) & (y_pred != 1))  # True negatives for oil spill\n",
        "\n",
        "    # Class 0 (Background) metrics\n",
        "    metrics['class_0']['precision'] = tp0 / (tp0 + fp0) if (tp0 + fp0) > 0 else 0\n",
        "    metrics['class_0']['recall'] = tp0 / (tp0 + fn0) if (tp0 + fn0) > 0 else 0\n",
        "    metrics['class_0']['f1'] = (2 * metrics['class_0']['precision'] * metrics['class_0']['recall'] /\n",
        "                               (metrics['class_0']['precision'] + metrics['class_0']['recall'])) if (metrics['class_0']['precision'] + metrics['class_0']['recall']) > 0 else 0\n",
        "    metrics['class_0']['iou'] = tp0 / (tp0 + fp0 + fn0) if (tp0 + fp0 + fn0) > 0 else 0\n",
        "    metrics['class_0']['accuracy'] = (tp0 + tn0) / y_true.size  # Class-wise accuracy\n",
        "\n",
        "    # Class 1 (Oil Spill) metrics\n",
        "    metrics['class_1']['precision'] = tp1 / (tp1 + fp1) if (tp1 + fp1) > 0 else 0\n",
        "    metrics['class_1']['recall'] = tp1 / (tp1 + fn1) if (tp1 + fn1) > 0 else 0\n",
        "    metrics['class_1']['f1'] = (2 * metrics['class_1']['precision'] * metrics['class_1']['recall'] /\n",
        "                               (metrics['class_1']['precision'] + metrics['class_1']['recall'])) if (metrics['class_1']['precision'] + metrics['class_1']['recall']) > 0 else 0\n",
        "    metrics['class_1']['iou'] = tp1 / (tp1 + fp1 + fn1) if (tp1 + fp1 + fn1) > 0 else 0\n",
        "    metrics['class_1']['accuracy'] = (tp1 + tn1) / y_true.size  # Class-wise accuracy\n",
        "\n",
        "    # Overall metrics\n",
        "    total_pixels = y_true.size\n",
        "    metrics['overall']['accuracy'] = (tp0 + tp1) / total_pixels\n",
        "    metrics['overall']['mean_iou'] = (metrics['class_0']['iou'] + metrics['class_1']['iou']) / 2\n",
        "    metrics['overall']['mean_precision'] = (metrics['class_0']['precision'] + metrics['class_1']['precision']) / 2\n",
        "    metrics['overall']['mean_recall'] = (metrics['class_0']['recall'] + metrics['class_1']['recall']) / 2\n",
        "    metrics['overall']['mean_f1'] = (metrics['class_0']['f1'] + metrics['class_1']['f1']) / 2\n",
        "    metrics['overall']['mean_accuracy'] = (metrics['class_0']['accuracy'] + metrics['class_1']['accuracy']) / 2\n",
        "\n",
        "    return metrics\n",
        "\n",
        "def evaluate_mask_pair(pred_dir, gt_dir, index):\n",
        "    \"\"\"\n",
        "    Evaluate predicted and ground truth masks by index number\n",
        "\n",
        "    Args:\n",
        "        pred_dir: Directory with predicted masks\n",
        "        gt_dir: Directory with ground truth masks\n",
        "        index: Numeric index of the mask pair to evaluate\n",
        "    \"\"\"\n",
        "    # Get all TIFF files in directories\n",
        "    pred_files = glob.glob(os.path.join(pred_dir, \"*.tif\"))\n",
        "    gt_files = glob.glob(os.path.join(gt_dir, \"*.tif\"))\n",
        "\n",
        "    # Create ID-path mappings\n",
        "    pred_dict = {extract_id(p): p for p in pred_files}\n",
        "    gt_dict = {extract_id(p): p for p in gt_files}\n",
        "\n",
        "    # Find requested files\n",
        "    pred_path = pred_dict.get(index)\n",
        "    gt_path = gt_dict.get(index)\n",
        "\n",
        "    if not pred_path:\n",
        "        raise FileNotFoundError(f\"No predicted mask found with index {index} in {pred_dir}\")\n",
        "    if not gt_path:\n",
        "        raise FileNotFoundError(f\"No ground truth mask found with index {index} in {gt_dir}\")\n",
        "\n",
        "    # Load masks\n",
        "    pred_mask = np.array(Image.open(pred_path))\n",
        "    gt_mask = np.array(Image.open(gt_path))\n",
        "\n",
        "    # Ensure binary masks (0 and 1 only)\n",
        "    pred_mask = (pred_mask > 0).astype(np.uint8)\n",
        "    gt_mask = (gt_mask > 0).astype(np.uint8)\n",
        "\n",
        "    # Display masks\n",
        "    plt.figure(figsize=(12, 6))\n",
        "\n",
        "    plt.subplot(1, 2, 1)\n",
        "    plt.imshow(pred_mask, cmap='gray', interpolation='none')\n",
        "    plt.title(f'Predicted Mask\\n{os.path.basename(pred_path)}')\n",
        "    plt.axis('off')\n",
        "\n",
        "    plt.subplot(1, 2, 2)\n",
        "    plt.imshow(gt_mask, cmap='gray', interpolation='none')\n",
        "    plt.title(f'Ground Truth Mask\\n{os.path.basename(gt_path)}')\n",
        "    plt.axis('off')\n",
        "\n",
        "    plt.tight_layout()\n",
        "    plt.show()\n",
        "\n",
        "    # Calculate metrics\n",
        "    metrics = calculate_metrics(gt_mask, pred_mask)\n",
        "\n",
        "    # Print results\n",
        "    print(\"\\n\" + \"=\"*60)\n",
        "    print(f\"EVALUATION RESULTS FOR MASK PAIR #{index}\")\n",
        "    print(\"=\"*60)\n",
        "\n",
        "    for class_key in ['class_0', 'class_1']:\n",
        "        class_name = metrics[class_key]['name']\n",
        "        print(f\"\\n{class_name.upper()} CLASS METRICS:\")\n",
        "        print(f\"  Accuracy:   {metrics[class_key]['accuracy']:.4f}\")  # Added class-wise accuracy\n",
        "        print(f\"  Precision:  {metrics[class_key]['precision']:.4f}\")\n",
        "        print(f\"  Recall:     {metrics[class_key]['recall']:.4f}\")\n",
        "        print(f\"  F1-Score:   {metrics[class_key]['f1']:.4f}\")\n",
        "        print(f\"  IoU:        {metrics[class_key]['iou']:.4f}\")\n",
        "\n",
        "    print(\"\\nOVERALL METRICS:\")\n",
        "    print(f\"  Accuracy:          {metrics['overall']['accuracy']:.4f}\")\n",
        "    print(f\"  Mean Accuracy:     {metrics['overall']['mean_accuracy']:.4f}\")  # Added mean class accuracy\n",
        "    print(f\"  Mean IoU:          {metrics['overall']['mean_iou']:.4f}\")\n",
        "    print(f\"  Mean Precision:    {metrics['overall']['mean_precision']:.4f}\")\n",
        "    print(f\"  Mean Recall:       {metrics['overall']['mean_recall']:.4f}\")\n",
        "    print(f\"  Mean F1-Score:     {metrics['overall']['mean_f1']:.4f}\")\n",
        "    print(\"=\"*60 + \"\\n\")\n",
        "\n",
        "    return metrics\n",
        "\n",
        "\n",
        "# Evaluate mask pair with index 43\n",
        "metrics = evaluate_mask_pair(\n",
        "    pred_dir=\"/content/drive/My Drive/iitisoc_ps1/oil_spill_mask/\",\n",
        "    gt_dir=\"/content/drive/My Drive/iitisoc_ps1/sar_dataset/Train_Val_Oil_Spill_mask/Mask_oil/\",\n",
        "    index=42)"
      ],
      "metadata": {
        "id": "5eaaKnVV5ISP"
      },
      "execution_count": null,
      "outputs": []
    },
    {
      "cell_type": "code",
      "source": [
        "import os\n",
        "import glob\n",
        "import numpy as np\n",
        "from PIL import Image\n",
        "import matplotlib.pyplot as plt\n",
        "import rasterio  # For reading specialized TIFF formats\n",
        "from rasterio.plot import show  # For displaying raster images\n",
        "\n",
        "def extract_id(path):\n",
        "    \"\"\"Extract numeric ID from filename\"\"\"\n",
        "    filename = os.path.basename(path)\n",
        "    digits = ''.join(filter(str.isdigit, filename))\n",
        "    return int(digits) if digits else -1\n",
        "\n",
        "def calculate_metrics(gt_mask, pred_mask):\n",
        "    \"\"\"Calculate class-wise and overall metrics with class-wise accuracy\"\"\"\n",
        "    # Flatten masks to 1D arrays\n",
        "    y_true = gt_mask.flatten()\n",
        "    y_pred = pred_mask.flatten()\n",
        "\n",
        "    # Initialize metrics storage\n",
        "    metrics = {\n",
        "        'class_0': {'name': 'Background'},\n",
        "        'class_1': {'name': 'Oil Spill'},\n",
        "        'overall': {}\n",
        "    }\n",
        "\n",
        "    # Calculate confusion matrix elements\n",
        "    tp0 = np.sum((y_true == 0) & (y_pred == 0))\n",
        "    fp0 = np.sum((y_true != 0) & (y_pred == 0))\n",
        "    fn0 = np.sum((y_true == 0) & (y_pred != 0))\n",
        "    tn0 = np.sum((y_true != 0) & (y_pred != 0))\n",
        "\n",
        "    tp1 = np.sum((y_true == 1) & (y_pred == 1))\n",
        "    fp1 = np.sum((y_true != 1) & (y_pred == 1))\n",
        "    fn1 = np.sum((y_true == 1) & (y_pred != 1))\n",
        "    tn1 = np.sum((y_true != 1) & (y_pred != 1))\n",
        "\n",
        "    # Class 0 (Background) metrics\n",
        "    metrics['class_0']['precision'] = tp0 / (tp0 + fp0) if (tp0 + fp0) > 0 else 0\n",
        "    metrics['class_0']['recall'] = tp0 / (tp0 + fn0) if (tp0 + fn0) > 0 else 0\n",
        "    metrics['class_0']['f1'] = (2 * metrics['class_0']['precision'] * metrics['class_0']['recall'] /\n",
        "                               (metrics['class_0']['precision'] + metrics['class_0']['recall'])) if (metrics['class_0']['precision'] + metrics['class_0']['recall']) > 0 else 0\n",
        "    metrics['class_0']['iou'] = tp0 / (tp0 + fp0 + fn0) if (tp0 + fp0 + fn0) > 0 else 0\n",
        "    metrics['class_0']['accuracy'] = (tp0 + tn0) / y_true.size\n",
        "\n",
        "    # Class 1 (Oil Spill) metrics\n",
        "    metrics['class_1']['precision'] = tp1 / (tp1 + fp1) if (tp1 + fp1) > 0 else 0\n",
        "    metrics['class_1']['recall'] = tp1 / (tp1 + fn1) if (tp1 + fn1) > 0 else 0\n",
        "    metrics['class_1']['f1'] = (2 * metrics['class_1']['precision'] * metrics['class_1']['recall'] /\n",
        "                               (metrics['class_1']['precision'] + metrics['class_1']['recall'])) if (metrics['class_1']['precision'] + metrics['class_1']['recall']) > 0 else 0\n",
        "    metrics['class_1']['iou'] = tp1 / (tp1 + fp1 + fn1) if (tp1 + fp1 + fn1) > 0 else 0\n",
        "    metrics['class_1']['accuracy'] = (tp1 + tn1) / y_true.size\n",
        "\n",
        "    # Overall metrics\n",
        "    total_pixels = y_true.size\n",
        "    metrics['overall']['accuracy'] = (tp0 + tp1) / total_pixels\n",
        "    metrics['overall']['mean_iou'] = (metrics['class_0']['iou'] + metrics['class_1']['iou']) / 2\n",
        "    metrics['overall']['mean_precision'] = (metrics['class_0']['precision'] + metrics['class_1']['precision']) / 2\n",
        "    metrics['overall']['mean_recall'] = (metrics['class_0']['recall'] + metrics['class_1']['recall']) / 2\n",
        "    metrics['overall']['mean_f1'] = (metrics['class_0']['f1'] + metrics['class_1']['f1']) / 2\n",
        "    metrics['overall']['mean_accuracy'] = (metrics['class_0']['accuracy'] + metrics['class_1']['accuracy']) / 2\n",
        "\n",
        "    return metrics\n",
        "\n",
        "def evaluate_mask_pair(pred_dir, gt_dir, sar_dir, index):\n",
        "    \"\"\"\n",
        "    Evaluate predicted and ground truth masks by index number\n",
        "\n",
        "    Args:\n",
        "        pred_dir: Directory with predicted masks\n",
        "        gt_dir: Directory with ground truth masks\n",
        "        sar_dir: Directory with original SAR images\n",
        "        index: Numeric index of the mask pair to evaluate\n",
        "    \"\"\"\n",
        "    # Get all TIFF files in directories\n",
        "    pred_files = glob.glob(os.path.join(pred_dir, \"*.tif\"))\n",
        "    gt_files = glob.glob(os.path.join(gt_dir, \"*.tif\"))\n",
        "    sar_files = glob.glob(os.path.join(sar_dir, \"*.tif\"))\n",
        "\n",
        "    # Create ID-path mappings\n",
        "    pred_dict = {extract_id(p): p for p in pred_files}\n",
        "    gt_dict = {extract_id(p): p for p in gt_files}\n",
        "    sar_dict = {extract_id(p): p for p in sar_files}\n",
        "\n",
        "    # Find requested files\n",
        "    pred_path = pred_dict.get(index)\n",
        "    gt_path = gt_dict.get(index)\n",
        "    sar_path = sar_dict.get(index)\n",
        "\n",
        "    if not pred_path:\n",
        "        raise FileNotFoundError(f\"No predicted mask found with index {index} in {pred_dir}\")\n",
        "    if not gt_path:\n",
        "        raise FileNotFoundError(f\"No ground truth mask found with index {index} in {gt_dir}\")\n",
        "    if not sar_path:\n",
        "        raise FileNotFoundError(f\"No SAR image found with index {index} in {sar_dir}\")\n",
        "\n",
        "    # Load images using appropriate methods\n",
        "    # Use rasterio for SAR images which might be specialized formats\n",
        "    with rasterio.open(sar_path) as src:\n",
        "        sar_image = src.read(2)  # Read first band\n",
        "\n",
        "    # For masks, use Pillow as they should be simple\n",
        "    pred_mask = np.array(Image.open(pred_path))\n",
        "    gt_mask = np.array(Image.open(gt_path))\n",
        "\n",
        "    # Ensure masks are binary (0 and 1 only)\n",
        "    pred_mask = (pred_mask > 0).astype(np.uint8)\n",
        "    gt_mask = (gt_mask > 0).astype(np.uint8)\n",
        "\n",
        "    # Display images in a row: SAR, Predicted Mask, Ground Truth Mask\n",
        "    fig, axes = plt.subplots(1, 3, figsize=(18, 6))\n",
        "\n",
        "    # SAR Image\n",
        "    show(sar_image, cmap='gray', ax=axes[0])\n",
        "    axes[0].set_title(f'Original SAR Image\\n{os.path.basename(sar_path)}')\n",
        "    axes[0].axis('off')\n",
        "\n",
        "    # Predicted Mask\n",
        "    axes[1].imshow(pred_mask, cmap='gray', interpolation='none')\n",
        "    axes[1].set_title(f'Predicted Mask\\n{os.path.basename(pred_path)}')\n",
        "    axes[1].axis('off')\n",
        "\n",
        "    # Ground Truth Mask\n",
        "    axes[2].imshow(gt_mask, cmap='gray', interpolation='none')\n",
        "    axes[2].set_title(f'Ground Truth Mask\\n{os.path.basename(gt_path)}')\n",
        "    axes[2].axis('off')\n",
        "\n",
        "    plt.tight_layout()\n",
        "    plt.show()\n",
        "\n",
        "    # Calculate metrics\n",
        "    metrics = calculate_metrics(gt_mask, pred_mask)\n",
        "\n",
        "    # Print results\n",
        "    print(\"\\n\" + \"=\"*60)\n",
        "    print(f\"EVALUATION RESULTS FOR MASK PAIR #{index}\")\n",
        "    print(\"=\"*60)\n",
        "\n",
        "    for class_key in ['class_0', 'class_1']:\n",
        "        class_name = metrics[class_key]['name']\n",
        "        print(f\"\\n{class_name.upper()} CLASS METRICS:\")\n",
        "        print(f\"  Accuracy:   {metrics[class_key]['accuracy']:.4f}\")\n",
        "        print(f\"  Precision:  {metrics[class_key]['precision']:.4f}\")\n",
        "        print(f\"  Recall:     {metrics[class_key]['recall']:.4f}\")\n",
        "        print(f\"  F1-Score:   {metrics[class_key]['f1']:.4f}\")\n",
        "        print(f\"  IoU:        {metrics[class_key]['iou']:.4f}\")\n",
        "\n",
        "    print(\"\\nOVERALL METRICS:\")\n",
        "    print(f\"  Accuracy:          {metrics['overall']['accuracy']:.4f}\")\n",
        "    print(f\"  Mean Accuracy:     {metrics['overall']['mean_accuracy']:.4f}\")\n",
        "    print(f\"  Mean IoU:          {metrics['overall']['mean_iou']:.4f}\")\n",
        "    print(f\"  Mean Precision:    {metrics['overall']['mean_precision']:.4f}\")\n",
        "    print(f\"  Mean Recall:       {metrics['overall']['mean_recall']:.4f}\")\n",
        "    print(f\"  Mean F1-Score:     {metrics['overall']['mean_f1']:.4f}\")\n",
        "    print(\"=\"*60 + \"\\n\")\n",
        "\n",
        "    return metrics\n",
        "\n",
        "\n",
        "# Evaluate mask pair with index 42\n",
        "metrics = evaluate_mask_pair(\n",
        "    pred_dir=\"/content/drive/My Drive/iitisoc_ps1/oil_spill_mask/\",\n",
        "    gt_dir=\"/content/drive/My Drive/iitisoc_ps1/sar_dataset/Train_Val_Oil_Spill_mask/Mask_oil/\",\n",
        "    sar_dir=\"/content/drive/My Drive/iitisoc_ps1/sar_dataset/Train_Val_Oil_Spill_images/Oil/\",\n",
        "    index=51\n",
        ")"
      ],
      "metadata": {
        "id": "7IK170ZAOHdi"
      },
      "execution_count": null,
      "outputs": []
    }
  ],
  "metadata": {
    "colab": {
      "provenance": []
    },
    "kernelspec": {
      "display_name": "Python 3",
      "name": "python3"
    },
    "language_info": {
      "name": "python"
    }
  },
  "nbformat": 4,
  "nbformat_minor": 0
}